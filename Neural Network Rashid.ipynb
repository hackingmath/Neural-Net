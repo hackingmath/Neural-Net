{
 "cells": [
  {
   "cell_type": "code",
   "execution_count": 6,
   "metadata": {},
   "outputs": [
    {
     "name": "stdout",
     "output_type": "stream",
     "text": [
      "1\n"
     ]
    },
    {
     "data": {
      "image/png": "[encoded data removed]",
      "text/plain": [
       "<Figure size 432x288 with 1 Axes>"
      ]
     },
     "metadata": {
      "needs_background": "light"
     },
     "output_type": "display_data"
    },
    {
     "name": "stdout",
     "output_type": "stream",
     "text": [
      "here it is\n",
      "[[0.01445886]\n",
      " [0.98313379]\n",
      " [0.03758832]\n",
      " [0.0407742 ]\n",
      " [0.0060764 ]\n",
      " [0.03042195]\n",
      " [0.00385027]\n",
      " [0.05512058]\n",
      " [0.07337665]\n",
      " [0.00487963]]\n",
      "finished?\n"
     ]
    },
    {
     "data": {
      "text/plain": [
       "\"a = np.zeros([3,2])\\na[0,0] = 1\\na[0,1] = 2\\na[1,0] = 9\\na[2,1] = 12\\n\\nplt.imshow(a, interpolation = 'nearest')\\nplt.show()\""
      ]
     },
     "execution_count": 6,
     "metadata": {},
     "output_type": "execute_result"
    }
   ],
   "source": [
    "'''Make your own Neural Network\n",
    "Tariq Rashid\n",
    "May 30, 2017'''\n",
    "\n",
    "import numpy as np\n",
    "import matplotlib.pyplot as plt\n",
    "from math import exp\n",
    "#import scipy.special\n",
    "\n",
    "class NeuralNetwork(object):\n",
    "\n",
    "    #initialize the neural network\n",
    "    def __init__(self, inputnodes, hiddennodes, outputnodes, learningrate):\n",
    "        self.inodes = inputnodes\n",
    "        self.hnodes = hiddennodes\n",
    "        self.onodes = outputnodes\n",
    "\n",
    "        #link weight matrices, wih and who\n",
    "        #weights inside the arrays are w_i_j, where link\n",
    "        #is from node i to node j in the next layer\n",
    "        #w11 w21\n",
    "        #w12 w22 etc\n",
    "        self.wih = np.random.normal(0.0, pow(self.hnodes, -0.5),\n",
    "                                       (self.hnodes, self.inodes))\n",
    "        self.who = np.random.normal(0.0, pow(self.onodes, -0.5),\n",
    "                                       (self.onodes, self.hnodes))\n",
    "        \n",
    "        #learning rate\n",
    "        self.lr = learningrate\n",
    "        pass\n",
    "\n",
    "    def activation_function(self,x):\n",
    "        #activation function is the sigmoid function\n",
    "        out = np.zeros([len(x),1])\n",
    "        for i,element in enumerate(x):\n",
    "            #print(\"element: \",element)\n",
    "            out[i] = sigmoid(x[i][0])\n",
    "            #print(out)\n",
    "        return out\n",
    "\n",
    "    #train the neural network\n",
    "    def train(self, inputs_list, targets_list):\n",
    "        #convert inputs list to 2d array\n",
    "        inputs = np.array(inputs_list, ndmin=2).T\n",
    "        targets = np.array(targets_list, ndmin=2).T\n",
    "\n",
    "        #calculate signals into hidden layer\n",
    "        hidden_inputs = np.dot(self.wih, inputs)\n",
    "        #calculate the signals emerging from hidden layer\n",
    "        hidden_outputs = self.activation_function(hidden_inputs)\n",
    "\n",
    "        #calculate signals entering final output layer\n",
    "        final_inputs = np.dot(self.who, hidden_outputs)\n",
    "        #calculate signals exiting final output layer\n",
    "        final_outputs = self.activation_function(final_inputs)\n",
    "\n",
    "        #output layer error is the (target - actual)\n",
    "        output_errors = targets - final_outputs\n",
    "        #hidden layer error is the output_errors, split by weights,\n",
    "        #recombined at hidden nodes\n",
    "        hidden_errors = np.dot(self.who.T, output_errors)\n",
    "\n",
    "        #update the weights for the links between the\n",
    "        #hidden and output layers\n",
    "        self.who += self.lr * np.dot((output_errors * final_outputs *\\\n",
    "                                      (1.0 - final_outputs)),\n",
    "                                     np.transpose(hidden_outputs))\n",
    "\n",
    "        #update the weights for the links between the input\n",
    "        #and hidden layers\n",
    "        self.wih += self.lr * np.dot((hidden_errors * hidden_outputs *\\\n",
    "                                      (1.0 - hidden_outputs)),\n",
    "                                     np.transpose(inputs))\n",
    "        pass\n",
    "\n",
    "    #query the neural network\n",
    "    def query(self, inputs_list):\n",
    "        #convert inputs list to 2d array\n",
    "        inputs = np.array(inputs_list,ndmin=2).T\n",
    "\n",
    "        #calculate signals into hidden layer\n",
    "        hidden_inputs = np.dot(self.wih, inputs)\n",
    "        #calculate the signals emerging from the\n",
    "        #hidden layer\n",
    "        #print(\"Hidden inputs:\", hidden_inputs)\n",
    "        hidden_outputs = self.activation_function(hidden_inputs)\n",
    "\n",
    "        #calculate signals into final output layer\n",
    "        final_inputs = np.dot(self.who, hidden_outputs)\n",
    "        #calculate the signals emerging from final\n",
    "        #output layer\n",
    "        final_outputs = self.activation_function(final_inputs)\n",
    "        #print(\"final_outputs: \",final_outputs)\n",
    "        return final_outputs\n",
    "\n",
    "def sigmoid(t):\n",
    "    return 1/(1+exp(-t))\n",
    "\n",
    "#number of input, hidden and output nodes\n",
    "input_nodes = 784\n",
    "hidden_nodes = 100\n",
    "output_nodes = 10\n",
    "\n",
    "#learning rate\n",
    "learning_rate = 0.3\n",
    "\n",
    "#create instance of neural network\n",
    "n = NeuralNetwork(input_nodes, hidden_nodes, output_nodes, learning_rate)\n",
    "\n",
    "#load the mnist training data CSV file into a list\n",
    "training_data_file = open('mnist_train_100.csv','r')\n",
    "training_data_list = training_data_file.readlines()\n",
    "training_data_file.close()\n",
    "\n",
    "#train the neural network\n",
    "#go through all records in training data set\n",
    "for record in training_data_list:\n",
    "    #split the record by the commas\n",
    "    all_values = record.split(',')\n",
    "    #scale and shift the inputs\n",
    "    inputs = (np.asfarray(all_values[1:]) / 255.0 * 0.99) + 0.01\n",
    "    #create the target output values (all 0.01 except the\n",
    "    #desired label which is 0.99)\n",
    "    targets = np.zeros(output_nodes) + 0.01\n",
    "    #print(\"all values[0]: \",all_values[0])\n",
    "    #print(\"targets: \",targets)\n",
    "    #all values[0] is the target label for this record\n",
    "    targets[int(all_values[0])] = 0.99\n",
    "    n.train(inputs,targets)\n",
    "    pass\n",
    "\n",
    "#load the mnist data csv file into a list\n",
    "test_data_file = open('mnist_test_10.csv','r')\n",
    "test_data_list = test_data_file.readlines()\n",
    "test_data_file.close()\n",
    "\n",
    "###TO TEST###\n",
    "#get the first test record\n",
    "all_values = test_data_list[5].split(',')\n",
    "#print the label\n",
    "print(all_values[0])\n",
    "image_array = np.asfarray(all_values[1:]).reshape((28,28))\n",
    "plt.imshow(image_array, cmap=\"Greys\", interpolation='None')\n",
    "plt.show()\n",
    "\n",
    "print(\"here it is\")\n",
    "print(n.query((np.asfarray(all_values[1:]) / 255 * 0.99) + 0.01))\n",
    "print(\"finished?\")\n",
    "\n",
    "'''a = np.zeros([3,2])\n",
    "a[0,0] = 1\n",
    "a[0,1] = 2\n",
    "a[1,0] = 9\n",
    "a[2,1] = 12\n",
    "\n",
    "plt.imshow(a, interpolation = 'nearest')\n",
    "plt.show()'''\n",
    "\n",
    "#print(n.query([1.0, 0.5, -1.5]))\n",
    "\n"
   ]
  },
  {
   "cell_type": "code",
   "execution_count": 9,
   "metadata": {},
   "outputs": [
    {
     "ename": "ImportError",
     "evalue": "No module named 'tensorflow'",
     "output_type": "error",
     "traceback": [
      "\u001b[1;31m---------------------------------------------------------------------------\u001b[0m",
      "\u001b[1;31mImportError\u001b[0m                               Traceback (most recent call last)",
      "\u001b[1;32m<ipython-input-9-a649b509054f>\u001b[0m in \u001b[0;36m<module>\u001b[1;34m()\u001b[0m\n\u001b[1;32m----> 1\u001b[1;33m \u001b[1;32mimport\u001b[0m \u001b[0mtensorflow\u001b[0m\u001b[1;33m\u001b[0m\u001b[0m\n\u001b[0m",
      "\u001b[1;31mImportError\u001b[0m: No module named 'tensorflow'"
     ]
    }
   ],
   "source": [
    "import tensorflow"
   ]
  },
  {
   "cell_type": "code",
   "execution_count": 8,
   "metadata": {
    "collapsed": true
   },
   "outputs": [],
   "source": [
    "import numpy"
   ]
  },
  {
   "cell_type": "code",
   "execution_count": null,
   "metadata": {
    "collapsed": true
   },
   "outputs": [],
   "source": []
  }
 ],
 "metadata": {
  "kernelspec": {
   "display_name": "Python 3",
   "language": "python",
   "name": "python3"
  },
  "language_info": {
   "codemirror_mode": {
    "name": "ipython",
    "version": 3
   },
   "file_extension": ".py",
   "mimetype": "text/x-python",
   "name": "python",
   "nbconvert_exporter": "python",
   "pygments_lexer": "ipython3",
   "version": "3.7.3"
  }
 },
 "nbformat": 4,
 "nbformat_minor": 1
}
